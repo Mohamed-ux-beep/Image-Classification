{
  "metadata": {
    "kernelspec": {
      "language": "python",
      "display_name": "Python 3",
      "name": "python3"
    },
    "language_info": {
      "name": "python",
      "version": "3.10.12",
      "mimetype": "text/x-python",
      "codemirror_mode": {
        "name": "ipython",
        "version": 3
      },
      "pygments_lexer": "ipython3",
      "nbconvert_exporter": "python",
      "file_extension": ".py"
    },
    "kaggle": {
      "accelerator": "gpu",
      "dataSources": [
        {
          "sourceId": 7043877,
          "sourceType": "datasetVersion",
          "datasetId": 4053003
        },
        {
          "sourceId": 7043947,
          "sourceType": "datasetVersion",
          "datasetId": 4053056
        },
        {
          "sourceId": 7100012,
          "sourceType": "datasetVersion",
          "datasetId": 4092688
        }
      ],
      "dockerImageVersionId": 30587,
      "isInternetEnabled": true,
      "language": "python",
      "sourceType": "notebook",
      "isGpuEnabled": true
    },
    "colab": {
      "provenance": [],
      "include_colab_link": true
    }
  },
  "nbformat_minor": 0,
  "nbformat": 4,
  "cells": [
    {
      "cell_type": "markdown",
      "metadata": {
        "id": "view-in-github",
        "colab_type": "text"
      },
      "source": [
        "<a href=\"https://colab.research.google.com/github/Mohamed-ux-beep/Image-Classification/blob/main/image_classi.ipynb\" target=\"_parent\"><img src=\"https://colab.research.google.com/assets/colab-badge.svg\" alt=\"Open In Colab\"/></a>"
      ]
    },
    {
      "cell_type": "code",
      "source": [
        "# import the libraries\n",
        "import torch\n",
        "import torchvision\n",
        "import torchvision.transforms as transforms\n",
        "from torchvision import datasets\n",
        "import torch.nn as nn\n",
        "import torch.nn.functional as F\n",
        "import torch.optim as optim\n",
        "import os\n",
        "import shutil\n",
        "import itertools\n",
        "import matplotlib.pyplot as plt\n",
        "import numpy as np\n",
        "from sklearn.metrics import *\n",
        "from ray import tune\n",
        "from ray.air import Checkpoint, session\n",
        "from ray.tune.schedulers import ASHAScheduler"
      ],
      "metadata": {
        "execution": {
          "iopub.status.busy": "2023-12-01T16:11:26.149852Z",
          "iopub.execute_input": "2023-12-01T16:11:26.150200Z",
          "iopub.status.idle": "2023-12-01T16:11:28.611308Z",
          "shell.execute_reply.started": "2023-12-01T16:11:26.150175Z",
          "shell.execute_reply": "2023-12-01T16:11:28.610290Z"
        },
        "trusted": true,
        "id": "LI6A5LYoCuQT",
        "outputId": "c0961860-0f65-4519-8c94-58e5627ee14b"
      },
      "execution_count": null,
      "outputs": [
        {
          "name": "stderr",
          "text": "2023-12-01 16:11:26,906\tINFO util.py:129 -- Outdated packages:\n  ipywidgets==7.7.1 found, needs ipywidgets>=8\nRun `pip install -U ipywidgets`, then restart the notebook server for rich notebook output.\n2023-12-01 16:11:27,766\tINFO util.py:129 -- Outdated packages:\n  ipywidgets==7.7.1 found, needs ipywidgets>=8\nRun `pip install -U ipywidgets`, then restart the notebook server for rich notebook output.\n",
          "output_type": "stream"
        }
      ]
    },
    {
      "cell_type": "code",
      "source": [
        "tra_path = \"/kaggle/input/train-2-zip/train_2\"\n",
        "val_path = \"/kaggle/input/val-2-zip/val_2\""
      ],
      "metadata": {
        "execution": {
          "iopub.status.busy": "2023-12-01T16:09:12.007574Z",
          "iopub.execute_input": "2023-12-01T16:09:12.008413Z",
          "iopub.status.idle": "2023-12-01T16:09:12.012902Z",
          "shell.execute_reply.started": "2023-12-01T16:09:12.008378Z",
          "shell.execute_reply": "2023-12-01T16:09:12.011895Z"
        },
        "trusted": true,
        "id": "pWm9Bl9LCuQX"
      },
      "execution_count": null,
      "outputs": []
    },
    {
      "cell_type": "markdown",
      "source": [
        "# **Dataset for Training & Validation data**"
      ],
      "metadata": {
        "id": "MiIA_5v5CuQY"
      }
    },
    {
      "cell_type": "code",
      "source": [
        "def load_data(tra_path, val_path):\n",
        "    transform = transforms.Compose([transforms.Resize((32,32)),transforms.ToTensor(), transforms.Normalize((0.5, 0.5, 0.5), (0.5, 0.5, 0.5))])\n",
        "    trainset = datasets.ImageFolder(root=tra_path, transform=transform)\n",
        "    validset = datasets.ImageFolder(root=val_path, transform=transform)\n",
        "    return trainset, validset"
      ],
      "metadata": {
        "execution": {
          "iopub.status.busy": "2023-12-01T16:42:51.503688Z",
          "iopub.execute_input": "2023-12-01T16:42:51.504599Z",
          "iopub.status.idle": "2023-12-01T16:42:51.510112Z",
          "shell.execute_reply.started": "2023-12-01T16:42:51.504568Z",
          "shell.execute_reply": "2023-12-01T16:42:51.509102Z"
        },
        "trusted": true,
        "id": "hXDbY8sZCuQZ"
      },
      "execution_count": null,
      "outputs": []
    },
    {
      "cell_type": "markdown",
      "source": [
        "# **The neural network**"
      ],
      "metadata": {
        "id": "W95VJ1LyCuQZ"
      }
    },
    {
      "cell_type": "code",
      "source": [
        "class CNN(nn.Module):\n",
        "    def __init__(self, l1=120, l2=84):\n",
        "        super(CNN, self).__init__()\n",
        "        self.conv1 = nn.Conv2d(3,   64,  3)\n",
        "        self.conv2 = nn.Conv2d(64,  128, 3)\n",
        "        self.conv3 = nn.Conv2d(128, 256, 3)\n",
        "        self.pool = nn.MaxPool2d(2, 2)\n",
        "        self.fc1 = nn.Linear(64 * 4 * 4, l1)\n",
        "        self.fc2 = nn.Linear(l1, l2)\n",
        "        self.fc3 = nn.Linear(l2, 9)\n",
        "\n",
        "    def forward(self, x):\n",
        "        x = self.pool(F.relu(self.conv1(x)))\n",
        "        x = self.pool(F.relu(self.conv2(x)))\n",
        "        x = self.pool(F.relu(self.conv3(x)))\n",
        "        x = x.view(-1, 64 * 4 * 4)\n",
        "        x = F.relu(self.fc1(x))\n",
        "        x = F.relu(self.fc2(x))\n",
        "        x = self.fc3(x)\n",
        "\n",
        "        return F.log_softmax(x, dim=1)"
      ],
      "metadata": {
        "execution": {
          "iopub.status.busy": "2023-12-01T16:51:10.301280Z",
          "iopub.execute_input": "2023-12-01T16:51:10.301678Z",
          "iopub.status.idle": "2023-12-01T16:51:10.311080Z",
          "shell.execute_reply.started": "2023-12-01T16:51:10.301646Z",
          "shell.execute_reply": "2023-12-01T16:51:10.310154Z"
        },
        "trusted": true,
        "id": "Ku3HdWoBCuQa"
      },
      "execution_count": null,
      "outputs": []
    },
    {
      "cell_type": "code",
      "source": [
        "model = CNN()"
      ],
      "metadata": {
        "execution": {
          "iopub.status.busy": "2023-12-01T14:58:16.437828Z",
          "iopub.execute_input": "2023-12-01T14:58:16.438187Z",
          "iopub.status.idle": "2023-12-01T14:58:16.447242Z",
          "shell.execute_reply.started": "2023-12-01T14:58:16.438158Z",
          "shell.execute_reply": "2023-12-01T14:58:16.446442Z"
        },
        "trusted": true,
        "id": "NlU6Bt4HCuQa"
      },
      "execution_count": null,
      "outputs": []
    },
    {
      "cell_type": "code",
      "source": [
        "total = 0\n",
        "print('Trainable parameters:')\n",
        "for name, param in model.named_parameters():\n",
        "    if param.requires_grad:\n",
        "        print(name, '\\t', param.numel())\n",
        "        total += param.numel()\n",
        "print()\n",
        "print('Total', '\\t', total)"
      ],
      "metadata": {
        "execution": {
          "iopub.status.busy": "2023-12-01T14:58:18.469910Z",
          "iopub.execute_input": "2023-12-01T14:58:18.470266Z",
          "iopub.status.idle": "2023-12-01T14:58:18.476994Z",
          "shell.execute_reply.started": "2023-12-01T14:58:18.470237Z",
          "shell.execute_reply": "2023-12-01T14:58:18.475934Z"
        },
        "trusted": true,
        "id": "06Wqu5kmCuQb",
        "outputId": "22924eac-2686-4eb7-8973-d63f33d3f2e0"
      },
      "execution_count": null,
      "outputs": [
        {
          "name": "stdout",
          "text": "Trainable parameters:\nconv1.weight \t 1728\nconv1.bias \t 64\nconv2.weight \t 73728\nconv2.bias \t 128\nconv3.weight \t 294912\nconv3.bias \t 256\nfc1.weight \t 131072\nfc1.bias \t 128\nfc2.weight \t 32768\nfc2.bias \t 256\nfc3.weight \t 2304\nfc3.bias \t 9\n\nTotal \t 537353\n",
          "output_type": "stream"
        }
      ]
    },
    {
      "cell_type": "markdown",
      "source": [
        "# **Training of the model**"
      ],
      "metadata": {
        "id": "W3b1eeNeCuQb"
      }
    },
    {
      "cell_type": "code",
      "source": [
        "def train(model, train_loader, optimizer, epoch):\n",
        "    losses = []\n",
        "    model.train()\n",
        "    for batch_idx, (data, target) in enumerate(train_loader):\n",
        "        optimizer.zero_grad()\n",
        "        output = model(data)\n",
        "        loss = F.nll_loss(output, target)\n",
        "        loss.backward()\n",
        "        optimizer.step()\n",
        "        losses.append(loss.item())\n",
        "        if batch_idx > 0 and batch_idx % 1000 == 0:\n",
        "            print('Train Epoch: {} [{}/{}\\t({:.0f}%)]\\tLoss: {:.6f}'.format(\n",
        "                epoch, batch_idx * len(data), len(train_loader.dataset),\n",
        "                100. * batch_idx / len(train_loader), loss.item()))\n",
        "    return losses"
      ],
      "metadata": {
        "execution": {
          "iopub.status.busy": "2023-12-01T14:58:22.288938Z",
          "iopub.execute_input": "2023-12-01T14:58:22.289786Z",
          "iopub.status.idle": "2023-12-01T14:58:22.296189Z",
          "shell.execute_reply.started": "2023-12-01T14:58:22.289752Z",
          "shell.execute_reply": "2023-12-01T14:58:22.295308Z"
        },
        "trusted": true,
        "id": "u9BL4AS4CuQc"
      },
      "execution_count": null,
      "outputs": []
    },
    {
      "cell_type": "markdown",
      "source": [
        "# **Validation of the model**"
      ],
      "metadata": {
        "id": "pRQ7SMjqCuQc"
      }
    },
    {
      "cell_type": "code",
      "source": [
        "def test(model, test_loader):\n",
        "    model.eval()\n",
        "    test_loss = 0\n",
        "    correct = 0\n",
        "    with torch.no_grad():\n",
        "        for data, target in test_loader:\n",
        "            output = model(data)\n",
        "            test_loss += F.nll_loss(output, target, reduction='sum').item() # sum up batch loss\n",
        "            pred = output.argmax(dim=1, keepdim=True) # get the index of the max log-probability\n",
        "            correct += pred.eq(target.view_as(pred)).sum().item()\n",
        "    test_loss /= len(test_loader.dataset)\n",
        "    print('\\nAverage loss: {:.4f}, Accuracy: {}/{} ({:.0f}%)\\n'.format(\n",
        "        test_loss, correct, len(test_loader.dataset),\n",
        "        100. * correct / len(test_loader.dataset)))\n",
        "    return (float(correct) / len(test_loader.dataset))"
      ],
      "metadata": {
        "execution": {
          "iopub.status.busy": "2023-12-01T14:58:24.725182Z",
          "iopub.execute_input": "2023-12-01T14:58:24.725529Z",
          "iopub.status.idle": "2023-12-01T14:58:24.733082Z",
          "shell.execute_reply.started": "2023-12-01T14:58:24.725501Z",
          "shell.execute_reply": "2023-12-01T14:58:24.732021Z"
        },
        "trusted": true,
        "id": "wGJQvGpjCuQd"
      },
      "execution_count": null,
      "outputs": []
    },
    {
      "cell_type": "code",
      "source": [
        "optimizer = optim.SGD(model.parameters(), lr=0.001, momentum=0.9)\n",
        "device = torch.device(\"cpu\") # or 'gpu'\n",
        "losses = []\n",
        "accuracies = []\n",
        "for epoch in range(0, 20):\n",
        "    losses.extend(train(model, tr_dataloader, optimizer, epoch))\n",
        "    accuracies.append(test(model,tr_dataloader))"
      ],
      "metadata": {
        "execution": {
          "iopub.status.busy": "2023-12-01T14:58:28.969678Z",
          "iopub.execute_input": "2023-12-01T14:58:28.970062Z",
          "iopub.status.idle": "2023-12-01T15:56:31.287223Z",
          "shell.execute_reply.started": "2023-12-01T14:58:28.970032Z",
          "shell.execute_reply": "2023-12-01T15:56:31.285997Z"
        },
        "trusted": true,
        "id": "HS5rxn29CuQd",
        "outputId": "005f79f1-3467-43d5-de8d-e6962d3ea2a5"
      },
      "execution_count": null,
      "outputs": [
        {
          "name": "stdout",
          "text": "Train Epoch: 0 [4000/45000\t(9%)]\tLoss: 2.158592\nTrain Epoch: 0 [8000/45000\t(18%)]\tLoss: 1.358586\nTrain Epoch: 0 [12000/45000\t(27%)]\tLoss: 1.873774\nTrain Epoch: 0 [16000/45000\t(36%)]\tLoss: 1.179891\nTrain Epoch: 0 [20000/45000\t(44%)]\tLoss: 1.041986\nTrain Epoch: 0 [24000/45000\t(53%)]\tLoss: 1.576380\nTrain Epoch: 0 [28000/45000\t(62%)]\tLoss: 2.063609\nTrain Epoch: 0 [32000/45000\t(71%)]\tLoss: 2.666649\nTrain Epoch: 0 [36000/45000\t(80%)]\tLoss: 1.767159\nTrain Epoch: 0 [40000/45000\t(89%)]\tLoss: 1.378502\nTrain Epoch: 0 [44000/45000\t(98%)]\tLoss: 1.603498\n\nAverage loss: 1.2643, Accuracy: 23855/45000 (53%)\n\nTrain Epoch: 1 [4000/45000\t(9%)]\tLoss: 0.788922\nTrain Epoch: 1 [8000/45000\t(18%)]\tLoss: 1.222013\nTrain Epoch: 1 [12000/45000\t(27%)]\tLoss: 0.504328\nTrain Epoch: 1 [16000/45000\t(36%)]\tLoss: 0.996005\nTrain Epoch: 1 [20000/45000\t(44%)]\tLoss: 1.158540\nTrain Epoch: 1 [24000/45000\t(53%)]\tLoss: 1.087369\nTrain Epoch: 1 [28000/45000\t(62%)]\tLoss: 0.647539\nTrain Epoch: 1 [32000/45000\t(71%)]\tLoss: 0.360332\nTrain Epoch: 1 [36000/45000\t(80%)]\tLoss: 1.099909\nTrain Epoch: 1 [40000/45000\t(89%)]\tLoss: 1.520721\nTrain Epoch: 1 [44000/45000\t(98%)]\tLoss: 1.398750\n\nAverage loss: 0.9361, Accuracy: 29956/45000 (67%)\n\nTrain Epoch: 2 [4000/45000\t(9%)]\tLoss: 0.217889\nTrain Epoch: 2 [8000/45000\t(18%)]\tLoss: 1.921693\nTrain Epoch: 2 [12000/45000\t(27%)]\tLoss: 0.243357\nTrain Epoch: 2 [16000/45000\t(36%)]\tLoss: 0.807469\nTrain Epoch: 2 [20000/45000\t(44%)]\tLoss: 0.440438\nTrain Epoch: 2 [24000/45000\t(53%)]\tLoss: 0.496584\nTrain Epoch: 2 [28000/45000\t(62%)]\tLoss: 1.129122\nTrain Epoch: 2 [32000/45000\t(71%)]\tLoss: 0.411888\nTrain Epoch: 2 [36000/45000\t(80%)]\tLoss: 0.694735\nTrain Epoch: 2 [40000/45000\t(89%)]\tLoss: 1.163021\nTrain Epoch: 2 [44000/45000\t(98%)]\tLoss: 1.320541\n\nAverage loss: 0.7692, Accuracy: 32826/45000 (73%)\n\nTrain Epoch: 3 [4000/45000\t(9%)]\tLoss: 0.520883\nTrain Epoch: 3 [8000/45000\t(18%)]\tLoss: 0.937126\nTrain Epoch: 3 [12000/45000\t(27%)]\tLoss: 0.501754\nTrain Epoch: 3 [16000/45000\t(36%)]\tLoss: 0.858661\nTrain Epoch: 3 [20000/45000\t(44%)]\tLoss: 0.403608\nTrain Epoch: 3 [24000/45000\t(53%)]\tLoss: 0.485451\nTrain Epoch: 3 [28000/45000\t(62%)]\tLoss: 0.744092\nTrain Epoch: 3 [32000/45000\t(71%)]\tLoss: 0.607652\nTrain Epoch: 3 [36000/45000\t(80%)]\tLoss: 0.513514\nTrain Epoch: 3 [40000/45000\t(89%)]\tLoss: 1.594045\nTrain Epoch: 3 [44000/45000\t(98%)]\tLoss: 0.223476\n\nAverage loss: 0.6884, Accuracy: 33989/45000 (76%)\n\nTrain Epoch: 4 [4000/45000\t(9%)]\tLoss: 0.724781\nTrain Epoch: 4 [8000/45000\t(18%)]\tLoss: 0.051463\nTrain Epoch: 4 [12000/45000\t(27%)]\tLoss: 0.128286\nTrain Epoch: 4 [16000/45000\t(36%)]\tLoss: 0.320067\nTrain Epoch: 4 [20000/45000\t(44%)]\tLoss: 0.121806\nTrain Epoch: 4 [24000/45000\t(53%)]\tLoss: 0.884399\nTrain Epoch: 4 [28000/45000\t(62%)]\tLoss: 2.361497\nTrain Epoch: 4 [32000/45000\t(71%)]\tLoss: 0.041669\nTrain Epoch: 4 [36000/45000\t(80%)]\tLoss: 0.349112\nTrain Epoch: 4 [40000/45000\t(89%)]\tLoss: 1.540260\nTrain Epoch: 4 [44000/45000\t(98%)]\tLoss: 0.844893\n\nAverage loss: 0.5345, Accuracy: 36551/45000 (81%)\n\nTrain Epoch: 5 [4000/45000\t(9%)]\tLoss: 0.085423\nTrain Epoch: 5 [8000/45000\t(18%)]\tLoss: 0.917951\nTrain Epoch: 5 [12000/45000\t(27%)]\tLoss: 0.063286\nTrain Epoch: 5 [16000/45000\t(36%)]\tLoss: 0.428381\nTrain Epoch: 5 [20000/45000\t(44%)]\tLoss: 0.264681\nTrain Epoch: 5 [24000/45000\t(53%)]\tLoss: 0.012313\nTrain Epoch: 5 [28000/45000\t(62%)]\tLoss: 0.136140\nTrain Epoch: 5 [32000/45000\t(71%)]\tLoss: 0.172329\nTrain Epoch: 5 [36000/45000\t(80%)]\tLoss: 1.285307\nTrain Epoch: 5 [40000/45000\t(89%)]\tLoss: 0.462322\nTrain Epoch: 5 [44000/45000\t(98%)]\tLoss: 0.969188\n\nAverage loss: 0.4012, Accuracy: 38816/45000 (86%)\n\nTrain Epoch: 6 [4000/45000\t(9%)]\tLoss: 0.882126\nTrain Epoch: 6 [8000/45000\t(18%)]\tLoss: 0.029119\nTrain Epoch: 6 [12000/45000\t(27%)]\tLoss: 0.524880\nTrain Epoch: 6 [16000/45000\t(36%)]\tLoss: 0.443420\nTrain Epoch: 6 [20000/45000\t(44%)]\tLoss: 0.625407\nTrain Epoch: 6 [24000/45000\t(53%)]\tLoss: 0.917470\nTrain Epoch: 6 [28000/45000\t(62%)]\tLoss: 0.058096\nTrain Epoch: 6 [32000/45000\t(71%)]\tLoss: 1.237673\nTrain Epoch: 6 [36000/45000\t(80%)]\tLoss: 1.049565\nTrain Epoch: 6 [40000/45000\t(89%)]\tLoss: 0.778280\nTrain Epoch: 6 [44000/45000\t(98%)]\tLoss: 0.110853\n\nAverage loss: 0.3652, Accuracy: 39231/45000 (87%)\n\nTrain Epoch: 7 [4000/45000\t(9%)]\tLoss: 0.122223\nTrain Epoch: 7 [8000/45000\t(18%)]\tLoss: 0.613208\nTrain Epoch: 7 [12000/45000\t(27%)]\tLoss: 0.101450\nTrain Epoch: 7 [16000/45000\t(36%)]\tLoss: 0.411714\nTrain Epoch: 7 [20000/45000\t(44%)]\tLoss: 0.044568\nTrain Epoch: 7 [24000/45000\t(53%)]\tLoss: 0.130075\nTrain Epoch: 7 [28000/45000\t(62%)]\tLoss: 0.078740\nTrain Epoch: 7 [32000/45000\t(71%)]\tLoss: 0.723615\nTrain Epoch: 7 [36000/45000\t(80%)]\tLoss: 0.534595\nTrain Epoch: 7 [40000/45000\t(89%)]\tLoss: 0.688219\nTrain Epoch: 7 [44000/45000\t(98%)]\tLoss: 0.694578\n\nAverage loss: 0.2836, Accuracy: 40624/45000 (90%)\n\nTrain Epoch: 8 [4000/45000\t(9%)]\tLoss: 0.074885\nTrain Epoch: 8 [8000/45000\t(18%)]\tLoss: 0.123845\nTrain Epoch: 8 [12000/45000\t(27%)]\tLoss: 0.049025\nTrain Epoch: 8 [16000/45000\t(36%)]\tLoss: 0.218102\nTrain Epoch: 8 [20000/45000\t(44%)]\tLoss: 0.233058\nTrain Epoch: 8 [24000/45000\t(53%)]\tLoss: 0.115832\nTrain Epoch: 8 [28000/45000\t(62%)]\tLoss: 0.078304\nTrain Epoch: 8 [32000/45000\t(71%)]\tLoss: 1.643734\nTrain Epoch: 8 [36000/45000\t(80%)]\tLoss: 0.525469\nTrain Epoch: 8 [40000/45000\t(89%)]\tLoss: 0.207062\nTrain Epoch: 8 [44000/45000\t(98%)]\tLoss: 0.079294\n\nAverage loss: 0.1986, Accuracy: 42023/45000 (93%)\n\nTrain Epoch: 9 [4000/45000\t(9%)]\tLoss: 0.078712\nTrain Epoch: 9 [8000/45000\t(18%)]\tLoss: 0.207008\nTrain Epoch: 9 [12000/45000\t(27%)]\tLoss: 0.898670\nTrain Epoch: 9 [16000/45000\t(36%)]\tLoss: 0.069859\nTrain Epoch: 9 [20000/45000\t(44%)]\tLoss: 0.028441\nTrain Epoch: 9 [24000/45000\t(53%)]\tLoss: 0.121469\nTrain Epoch: 9 [28000/45000\t(62%)]\tLoss: 0.062331\nTrain Epoch: 9 [32000/45000\t(71%)]\tLoss: 0.079183\nTrain Epoch: 9 [36000/45000\t(80%)]\tLoss: 0.487923\nTrain Epoch: 9 [40000/45000\t(89%)]\tLoss: 0.057891\nTrain Epoch: 9 [44000/45000\t(98%)]\tLoss: 0.597018\n\nAverage loss: 0.1549, Accuracy: 42825/45000 (95%)\n\nTrain Epoch: 10 [4000/45000\t(9%)]\tLoss: 0.713821\nTrain Epoch: 10 [8000/45000\t(18%)]\tLoss: 0.119749\nTrain Epoch: 10 [12000/45000\t(27%)]\tLoss: 0.612716\nTrain Epoch: 10 [16000/45000\t(36%)]\tLoss: 0.532401\nTrain Epoch: 10 [20000/45000\t(44%)]\tLoss: 0.029424\nTrain Epoch: 10 [24000/45000\t(53%)]\tLoss: 0.199025\nTrain Epoch: 10 [28000/45000\t(62%)]\tLoss: 0.249670\nTrain Epoch: 10 [32000/45000\t(71%)]\tLoss: 0.245442\nTrain Epoch: 10 [36000/45000\t(80%)]\tLoss: 0.003509\nTrain Epoch: 10 [40000/45000\t(89%)]\tLoss: 0.314035\nTrain Epoch: 10 [44000/45000\t(98%)]\tLoss: 0.010691\n\nAverage loss: 0.1457, Accuracy: 42787/45000 (95%)\n\nTrain Epoch: 11 [4000/45000\t(9%)]\tLoss: 0.040233\nTrain Epoch: 11 [8000/45000\t(18%)]\tLoss: 0.187421\nTrain Epoch: 11 [12000/45000\t(27%)]\tLoss: 0.000137\nTrain Epoch: 11 [16000/45000\t(36%)]\tLoss: 0.061219\nTrain Epoch: 11 [20000/45000\t(44%)]\tLoss: 0.000494\nTrain Epoch: 11 [24000/45000\t(53%)]\tLoss: 0.107326\nTrain Epoch: 11 [28000/45000\t(62%)]\tLoss: 0.005908\nTrain Epoch: 11 [32000/45000\t(71%)]\tLoss: 1.108837\nTrain Epoch: 11 [36000/45000\t(80%)]\tLoss: 0.052050\nTrain Epoch: 11 [40000/45000\t(89%)]\tLoss: 0.018953\nTrain Epoch: 11 [44000/45000\t(98%)]\tLoss: 0.011317\n\nAverage loss: 0.1854, Accuracy: 42033/45000 (93%)\n\nTrain Epoch: 12 [4000/45000\t(9%)]\tLoss: 0.018922\nTrain Epoch: 12 [8000/45000\t(18%)]\tLoss: 0.004334\nTrain Epoch: 12 [12000/45000\t(27%)]\tLoss: 0.000487\nTrain Epoch: 12 [16000/45000\t(36%)]\tLoss: 0.262752\nTrain Epoch: 12 [20000/45000\t(44%)]\tLoss: 0.082140\nTrain Epoch: 12 [24000/45000\t(53%)]\tLoss: 0.175988\nTrain Epoch: 12 [28000/45000\t(62%)]\tLoss: 0.035835\nTrain Epoch: 12 [32000/45000\t(71%)]\tLoss: 0.007036\nTrain Epoch: 12 [36000/45000\t(80%)]\tLoss: 0.852859\nTrain Epoch: 12 [40000/45000\t(89%)]\tLoss: 0.267371\nTrain Epoch: 12 [44000/45000\t(98%)]\tLoss: 0.000694\n\nAverage loss: 0.1342, Accuracy: 42978/45000 (96%)\n\nTrain Epoch: 13 [4000/45000\t(9%)]\tLoss: 0.001664\nTrain Epoch: 13 [8000/45000\t(18%)]\tLoss: 0.009677\nTrain Epoch: 13 [12000/45000\t(27%)]\tLoss: 0.096952\nTrain Epoch: 13 [16000/45000\t(36%)]\tLoss: 0.022727\nTrain Epoch: 13 [20000/45000\t(44%)]\tLoss: 0.033187\nTrain Epoch: 13 [24000/45000\t(53%)]\tLoss: 0.167059\nTrain Epoch: 13 [28000/45000\t(62%)]\tLoss: 0.027368\nTrain Epoch: 13 [32000/45000\t(71%)]\tLoss: 0.008170\nTrain Epoch: 13 [36000/45000\t(80%)]\tLoss: 0.235293\nTrain Epoch: 13 [40000/45000\t(89%)]\tLoss: 0.216081\nTrain Epoch: 13 [44000/45000\t(98%)]\tLoss: 0.579034\n\nAverage loss: 0.1152, Accuracy: 43252/45000 (96%)\n\nTrain Epoch: 14 [4000/45000\t(9%)]\tLoss: 0.000027\nTrain Epoch: 14 [8000/45000\t(18%)]\tLoss: 0.000225\nTrain Epoch: 14 [12000/45000\t(27%)]\tLoss: 0.553045\nTrain Epoch: 14 [16000/45000\t(36%)]\tLoss: 0.000026\nTrain Epoch: 14 [20000/45000\t(44%)]\tLoss: 0.153500\nTrain Epoch: 14 [24000/45000\t(53%)]\tLoss: 0.577784\nTrain Epoch: 14 [28000/45000\t(62%)]\tLoss: 0.037290\nTrain Epoch: 14 [32000/45000\t(71%)]\tLoss: 0.128534\nTrain Epoch: 14 [36000/45000\t(80%)]\tLoss: 0.019172\nTrain Epoch: 14 [40000/45000\t(89%)]\tLoss: 0.006042\nTrain Epoch: 14 [44000/45000\t(98%)]\tLoss: 0.000020\n\nAverage loss: 0.0853, Accuracy: 43695/45000 (97%)\n\nTrain Epoch: 15 [4000/45000\t(9%)]\tLoss: 0.000019\nTrain Epoch: 15 [8000/45000\t(18%)]\tLoss: 0.002423\nTrain Epoch: 15 [12000/45000\t(27%)]\tLoss: 0.000032\nTrain Epoch: 15 [16000/45000\t(36%)]\tLoss: 0.187803\nTrain Epoch: 15 [20000/45000\t(44%)]\tLoss: 0.008185\nTrain Epoch: 15 [24000/45000\t(53%)]\tLoss: 0.006661\nTrain Epoch: 15 [28000/45000\t(62%)]\tLoss: 0.145025\nTrain Epoch: 15 [32000/45000\t(71%)]\tLoss: 0.000015\nTrain Epoch: 15 [36000/45000\t(80%)]\tLoss: 0.005581\nTrain Epoch: 15 [40000/45000\t(89%)]\tLoss: 0.040155\nTrain Epoch: 15 [44000/45000\t(98%)]\tLoss: 0.048613\n\nAverage loss: 0.0912, Accuracy: 43601/45000 (97%)\n\nTrain Epoch: 16 [4000/45000\t(9%)]\tLoss: 0.006134\nTrain Epoch: 16 [8000/45000\t(18%)]\tLoss: 0.000154\nTrain Epoch: 16 [12000/45000\t(27%)]\tLoss: 0.260419\nTrain Epoch: 16 [16000/45000\t(36%)]\tLoss: 0.000062\nTrain Epoch: 16 [20000/45000\t(44%)]\tLoss: 0.014626\nTrain Epoch: 16 [24000/45000\t(53%)]\tLoss: 0.013496\nTrain Epoch: 16 [28000/45000\t(62%)]\tLoss: 0.014605\nTrain Epoch: 16 [32000/45000\t(71%)]\tLoss: 0.000427\nTrain Epoch: 16 [36000/45000\t(80%)]\tLoss: 0.000827\nTrain Epoch: 16 [40000/45000\t(89%)]\tLoss: 0.000132\nTrain Epoch: 16 [44000/45000\t(98%)]\tLoss: 0.006363\n\nAverage loss: 0.0724, Accuracy: 43894/45000 (98%)\n\nTrain Epoch: 17 [4000/45000\t(9%)]\tLoss: 0.002924\nTrain Epoch: 17 [8000/45000\t(18%)]\tLoss: 0.000046\nTrain Epoch: 17 [12000/45000\t(27%)]\tLoss: 0.003729\nTrain Epoch: 17 [16000/45000\t(36%)]\tLoss: 0.002272\nTrain Epoch: 17 [20000/45000\t(44%)]\tLoss: 0.009130\nTrain Epoch: 17 [24000/45000\t(53%)]\tLoss: 0.105750\nTrain Epoch: 17 [28000/45000\t(62%)]\tLoss: 0.749310\nTrain Epoch: 17 [32000/45000\t(71%)]\tLoss: 0.029456\nTrain Epoch: 17 [36000/45000\t(80%)]\tLoss: 0.141885\nTrain Epoch: 17 [40000/45000\t(89%)]\tLoss: 0.038052\nTrain Epoch: 17 [44000/45000\t(98%)]\tLoss: 0.002755\n\nAverage loss: 0.0486, Accuracy: 44257/45000 (98%)\n\nTrain Epoch: 18 [4000/45000\t(9%)]\tLoss: 0.001210\nTrain Epoch: 18 [8000/45000\t(18%)]\tLoss: 0.000040\nTrain Epoch: 18 [12000/45000\t(27%)]\tLoss: 0.027925\nTrain Epoch: 18 [16000/45000\t(36%)]\tLoss: 0.000443\nTrain Epoch: 18 [20000/45000\t(44%)]\tLoss: 0.001601\nTrain Epoch: 18 [24000/45000\t(53%)]\tLoss: 0.169451\nTrain Epoch: 18 [28000/45000\t(62%)]\tLoss: 0.029325\nTrain Epoch: 18 [32000/45000\t(71%)]\tLoss: 0.060339\nTrain Epoch: 18 [36000/45000\t(80%)]\tLoss: 0.000080\nTrain Epoch: 18 [40000/45000\t(89%)]\tLoss: 0.127880\nTrain Epoch: 18 [44000/45000\t(98%)]\tLoss: 0.078191\n\nAverage loss: 0.0624, Accuracy: 44080/45000 (98%)\n\nTrain Epoch: 19 [4000/45000\t(9%)]\tLoss: 0.000035\nTrain Epoch: 19 [8000/45000\t(18%)]\tLoss: 0.002617\nTrain Epoch: 19 [12000/45000\t(27%)]\tLoss: 0.005024\nTrain Epoch: 19 [16000/45000\t(36%)]\tLoss: 0.102352\nTrain Epoch: 19 [20000/45000\t(44%)]\tLoss: 0.006177\nTrain Epoch: 19 [24000/45000\t(53%)]\tLoss: 0.028150\nTrain Epoch: 19 [28000/45000\t(62%)]\tLoss: 0.023267\nTrain Epoch: 19 [32000/45000\t(71%)]\tLoss: 0.001293\nTrain Epoch: 19 [36000/45000\t(80%)]\tLoss: 0.001235\nTrain Epoch: 19 [40000/45000\t(89%)]\tLoss: 0.010385\nTrain Epoch: 19 [44000/45000\t(98%)]\tLoss: 0.146441\n\nAverage loss: 0.0604, Accuracy: 44086/45000 (98%)\n\n",
          "output_type": "stream"
        }
      ]
    },
    {
      "cell_type": "code",
      "source": [
        "def test_label_predictions(model,test_loader):\n",
        "    model.eval()\n",
        "    actuals = []\n",
        "    predictions = []\n",
        "    with torch.no_grad():\n",
        "        for data, target in test_loader:\n",
        "            output = model(data)\n",
        "            prediction = output.argmax(dim=1, keepdim=True)\n",
        "            actuals.extend(target.view_as(prediction))\n",
        "            predictions.extend(prediction)\n",
        "    return [i.item() for i in actuals], [i.item() for i in predictions]\n",
        "\n",
        "actuals, predictions = test_label_predictions(model,val_dataloader)\n",
        "print('Confusion matrix:')\n",
        "print(confusion_matrix(actuals, predictions))\n",
        "print('F1 score: %f' % f1_score(actuals, predictions, average='micro'))\n",
        "print('Accuracy score: %f' % accuracy_score(actuals, predictions))"
      ],
      "metadata": {
        "execution": {
          "iopub.status.busy": "2023-12-01T16:56:36.327539Z",
          "iopub.execute_input": "2023-12-01T16:56:36.328617Z",
          "iopub.status.idle": "2023-12-01T16:56:50.008520Z",
          "shell.execute_reply.started": "2023-12-01T16:56:36.328576Z",
          "shell.execute_reply": "2023-12-01T16:56:50.007414Z"
        },
        "trusted": true,
        "id": "IBQQWAx3CuQd",
        "outputId": "25f35c24-f509-4e27-f5e2-9caecd5aaa5d"
      },
      "execution_count": null,
      "outputs": [
        {
          "name": "stdout",
          "text": "Confusion matrix:\n[[774  23  86  13  13   9  19  37  26]\n [ 16 862  10  12   1  10   3  23  63]\n [ 44   8 696  65  71  63  41   8   4]\n [ 30  13 104 540  51 184  40  11  27]\n [ 27   4 112  70 640  55  78  10   4]\n [ 15   6  74 161  29 658  45   6   6]\n [ 23   4  37  46  53  65 757   1  14]\n [ 77  27  25  14   6  11   7 798  35]\n [ 36 107   6  18   9  10  12  23 779]]\nF1 score: 0.722667\nAccuracy score: 0.722667\n",
          "output_type": "stream"
        }
      ]
    },
    {
      "cell_type": "code",
      "source": [
        "tst_path = \"/kaggle/input/test-data/test\""
      ],
      "metadata": {
        "execution": {
          "iopub.status.busy": "2023-12-01T17:16:16.580400Z",
          "iopub.execute_input": "2023-12-01T17:16:16.581452Z",
          "iopub.status.idle": "2023-12-01T17:16:16.585493Z",
          "shell.execute_reply.started": "2023-12-01T17:16:16.581414Z",
          "shell.execute_reply": "2023-12-01T17:16:16.584484Z"
        },
        "trusted": true,
        "id": "XcXG2pS8CuQe"
      },
      "execution_count": null,
      "outputs": []
    },
    {
      "cell_type": "code",
      "source": [
        "transform = transforms.Compose([transforms.Resize((32,32)),transforms.ToTensor(), transforms.Normalize((0.5, 0.5, 0.5), (0.5, 0.5, 0.5))])\n",
        "testset = datasets.ImageFolder(root=tst_path, transform=transform)\n",
        "testloader = torch.utils.data.DataLoader(testset, batch_size=4, shuffle=False, num_workers=2)"
      ],
      "metadata": {
        "execution": {
          "iopub.status.busy": "2023-12-01T17:20:50.816223Z",
          "iopub.execute_input": "2023-12-01T17:20:50.817177Z",
          "iopub.status.idle": "2023-12-01T17:20:50.849730Z",
          "shell.execute_reply.started": "2023-12-01T17:20:50.817139Z",
          "shell.execute_reply": "2023-12-01T17:20:50.848977Z"
        },
        "trusted": true,
        "id": "rJVbjpg6CuQe"
      },
      "execution_count": null,
      "outputs": []
    },
    {
      "cell_type": "code",
      "source": [
        "predictions = []\n",
        "with torch.no_grad():\n",
        "    for images, _ in testloader:\n",
        "        outputs = model(images)\n",
        "        _, predicted = torch.max(outputs, 1)\n",
        "        predictions.extend(predicted.tolist())\n"
      ],
      "metadata": {
        "execution": {
          "iopub.status.busy": "2023-12-01T17:35:01.065764Z",
          "iopub.execute_input": "2023-12-01T17:35:01.066656Z",
          "iopub.status.idle": "2023-12-01T17:35:09.143732Z",
          "shell.execute_reply.started": "2023-12-01T17:35:01.066623Z",
          "shell.execute_reply": "2023-12-01T17:35:09.142669Z"
        },
        "trusted": true,
        "id": "KjMJMvTvCuQe"
      },
      "execution_count": null,
      "outputs": []
    },
    {
      "cell_type": "code",
      "source": [
        "import os\n",
        "# Initialize an empty list to store the file paths\n",
        "image_paths = []\n",
        "# Iterate over the files in the directory and append their paths to the list\n",
        "for root, dirs, files in os.walk(tst_path):\n",
        "    for file in files:\n",
        "        if file.endswith(\".jpg\"):\n",
        "            file_path = os.path.join(root, file)\n",
        "            image_paths.append(file_path)\n",
        "\n"
      ],
      "metadata": {
        "execution": {
          "iopub.status.busy": "2023-12-01T17:42:09.443335Z",
          "iopub.execute_input": "2023-12-01T17:42:09.444267Z",
          "iopub.status.idle": "2023-12-01T17:42:10.228356Z",
          "shell.execute_reply.started": "2023-12-01T17:42:09.444233Z",
          "shell.execute_reply": "2023-12-01T17:42:10.227529Z"
        },
        "trusted": true,
        "id": "iG8Djm1aCuQe"
      },
      "execution_count": null,
      "outputs": []
    },
    {
      "cell_type": "code",
      "source": [
        "import pandas as pd"
      ],
      "metadata": {
        "execution": {
          "iopub.status.busy": "2023-12-01T17:43:35.343717Z",
          "iopub.execute_input": "2023-12-01T17:43:35.344612Z",
          "iopub.status.idle": "2023-12-01T17:43:35.348853Z",
          "shell.execute_reply.started": "2023-12-01T17:43:35.344575Z",
          "shell.execute_reply": "2023-12-01T17:43:35.347809Z"
        },
        "trusted": true,
        "id": "WnKVfW3FCuQe"
      },
      "execution_count": null,
      "outputs": []
    },
    {
      "cell_type": "code",
      "source": [
        "results = pd.DataFrame(columns=['image', 'class', 'id'])"
      ],
      "metadata": {
        "execution": {
          "iopub.status.busy": "2023-12-01T17:45:28.934113Z",
          "iopub.execute_input": "2023-12-01T17:45:28.935092Z",
          "iopub.status.idle": "2023-12-01T17:45:28.940440Z",
          "shell.execute_reply.started": "2023-12-01T17:45:28.935057Z",
          "shell.execute_reply": "2023-12-01T17:45:28.939461Z"
        },
        "trusted": true,
        "id": "rkkQCyI4CuQe"
      },
      "execution_count": null,
      "outputs": []
    },
    {
      "cell_type": "code",
      "source": [
        "results['image'] = image_paths"
      ],
      "metadata": {
        "execution": {
          "iopub.status.busy": "2023-12-01T17:45:48.899904Z",
          "iopub.execute_input": "2023-12-01T17:45:48.900939Z",
          "iopub.status.idle": "2023-12-01T17:45:48.913133Z",
          "shell.execute_reply.started": "2023-12-01T17:45:48.900903Z",
          "shell.execute_reply": "2023-12-01T17:45:48.912037Z"
        },
        "trusted": true,
        "id": "IahuRtylCuQf"
      },
      "execution_count": null,
      "outputs": []
    },
    {
      "cell_type": "code",
      "source": [
        "results['id'] = predictions"
      ],
      "metadata": {
        "execution": {
          "iopub.status.busy": "2023-12-01T17:46:12.886072Z",
          "iopub.execute_input": "2023-12-01T17:46:12.886462Z",
          "iopub.status.idle": "2023-12-01T17:46:12.893844Z",
          "shell.execute_reply.started": "2023-12-01T17:46:12.886423Z",
          "shell.execute_reply": "2023-12-01T17:46:12.892784Z"
        },
        "trusted": true,
        "id": "m-tmx5F-CuQf"
      },
      "execution_count": null,
      "outputs": []
    },
    {
      "cell_type": "code",
      "source": [
        "class_dict = {0:'airplan', 1:'automobile', 2:'bird', 3:'cat', 4:'deer', 5:'dog', 6:'horse', 7:'ship', 8:'truck'}"
      ],
      "metadata": {
        "execution": {
          "iopub.status.busy": "2023-12-01T17:48:28.398902Z",
          "iopub.execute_input": "2023-12-01T17:48:28.399873Z",
          "iopub.status.idle": "2023-12-01T17:48:28.404717Z",
          "shell.execute_reply.started": "2023-12-01T17:48:28.399840Z",
          "shell.execute_reply": "2023-12-01T17:48:28.403718Z"
        },
        "trusted": true,
        "id": "GG50Dc2UCuQf"
      },
      "execution_count": null,
      "outputs": []
    },
    {
      "cell_type": "code",
      "source": [
        "results['class'] = results['id'].apply(lambda x: class_dict[x])"
      ],
      "metadata": {
        "execution": {
          "iopub.status.busy": "2023-12-01T17:50:33.894840Z",
          "iopub.execute_input": "2023-12-01T17:50:33.895229Z",
          "iopub.status.idle": "2023-12-01T17:50:33.901859Z",
          "shell.execute_reply.started": "2023-12-01T17:50:33.895196Z",
          "shell.execute_reply": "2023-12-01T17:50:33.900802Z"
        },
        "trusted": true,
        "id": "ZMbr9IGJCuQf"
      },
      "execution_count": null,
      "outputs": []
    },
    {
      "cell_type": "code",
      "source": [
        "results.to_csv('img_classification_1.csv', index=0)"
      ],
      "metadata": {
        "execution": {
          "iopub.status.busy": "2023-12-01T17:50:59.988560Z",
          "iopub.execute_input": "2023-12-01T17:50:59.989613Z",
          "iopub.status.idle": "2023-12-01T17:51:00.014163Z",
          "shell.execute_reply.started": "2023-12-01T17:50:59.989576Z",
          "shell.execute_reply": "2023-12-01T17:51:00.013387Z"
        },
        "trusted": true,
        "id": "EfwanV6QCuQf"
      },
      "execution_count": null,
      "outputs": []
    },
    {
      "cell_type": "code",
      "source": [
        "pd.read_csv('img_classification_1.csv')"
      ],
      "metadata": {
        "execution": {
          "iopub.status.busy": "2023-12-01T18:08:42.963606Z",
          "iopub.execute_input": "2023-12-01T18:08:42.964281Z",
          "iopub.status.idle": "2023-12-01T18:08:42.988224Z",
          "shell.execute_reply.started": "2023-12-01T18:08:42.964245Z",
          "shell.execute_reply": "2023-12-01T18:08:42.987310Z"
        },
        "trusted": true,
        "id": "-ix_FJ-cCuQf",
        "outputId": "bf4410ea-1095-4976-8ce2-b6bfeb19505e"
      },
      "execution_count": null,
      "outputs": [
        {
          "execution_count": 130,
          "output_type": "execute_result",
          "data": {
            "text/plain": "                                      image       class  id\n0     /kaggle/input/test-data/test/0664.jpg     airplan   0\n1     /kaggle/input/test-data/test/1269.jpg        ship   7\n2     /kaggle/input/test-data/test/3863.jpg       truck   8\n3     /kaggle/input/test-data/test/2193.jpg       horse   6\n4     /kaggle/input/test-data/test/0733.jpg       horse   6\n...                                     ...         ...  ..\n4495  /kaggle/input/test-data/test/4463.jpg        ship   7\n4496  /kaggle/input/test-data/test/3950.jpg        deer   4\n4497  /kaggle/input/test-data/test/1656.jpg  automobile   1\n4498  /kaggle/input/test-data/test/3361.jpg        deer   4\n4499  /kaggle/input/test-data/test/2599.jpg         cat   3\n\n[4500 rows x 3 columns]",
            "text/html": "<div>\n<style scoped>\n    .dataframe tbody tr th:only-of-type {\n        vertical-align: middle;\n    }\n\n    .dataframe tbody tr th {\n        vertical-align: top;\n    }\n\n    .dataframe thead th {\n        text-align: right;\n    }\n</style>\n<table border=\"1\" class=\"dataframe\">\n  <thead>\n    <tr style=\"text-align: right;\">\n      <th></th>\n      <th>image</th>\n      <th>class</th>\n      <th>id</th>\n    </tr>\n  </thead>\n  <tbody>\n    <tr>\n      <th>0</th>\n      <td>/kaggle/input/test-data/test/0664.jpg</td>\n      <td>airplan</td>\n      <td>0</td>\n    </tr>\n    <tr>\n      <th>1</th>\n      <td>/kaggle/input/test-data/test/1269.jpg</td>\n      <td>ship</td>\n      <td>7</td>\n    </tr>\n    <tr>\n      <th>2</th>\n      <td>/kaggle/input/test-data/test/3863.jpg</td>\n      <td>truck</td>\n      <td>8</td>\n    </tr>\n    <tr>\n      <th>3</th>\n      <td>/kaggle/input/test-data/test/2193.jpg</td>\n      <td>horse</td>\n      <td>6</td>\n    </tr>\n    <tr>\n      <th>4</th>\n      <td>/kaggle/input/test-data/test/0733.jpg</td>\n      <td>horse</td>\n      <td>6</td>\n    </tr>\n    <tr>\n      <th>...</th>\n      <td>...</td>\n      <td>...</td>\n      <td>...</td>\n    </tr>\n    <tr>\n      <th>4495</th>\n      <td>/kaggle/input/test-data/test/4463.jpg</td>\n      <td>ship</td>\n      <td>7</td>\n    </tr>\n    <tr>\n      <th>4496</th>\n      <td>/kaggle/input/test-data/test/3950.jpg</td>\n      <td>deer</td>\n      <td>4</td>\n    </tr>\n    <tr>\n      <th>4497</th>\n      <td>/kaggle/input/test-data/test/1656.jpg</td>\n      <td>automobile</td>\n      <td>1</td>\n    </tr>\n    <tr>\n      <th>4498</th>\n      <td>/kaggle/input/test-data/test/3361.jpg</td>\n      <td>deer</td>\n      <td>4</td>\n    </tr>\n    <tr>\n      <th>4499</th>\n      <td>/kaggle/input/test-data/test/2599.jpg</td>\n      <td>cat</td>\n      <td>3</td>\n    </tr>\n  </tbody>\n</table>\n<p>4500 rows × 3 columns</p>\n</div>"
          },
          "metadata": {}
        }
      ]
    }
  ]
}